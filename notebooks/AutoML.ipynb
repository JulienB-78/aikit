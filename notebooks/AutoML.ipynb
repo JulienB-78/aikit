{
 "cells": [
  {
   "cell_type": "markdown",
   "metadata": {},
   "source": [
    "### Auto ML\n",
    "This notebook will explain the auto-ml capabilities of aikit.\n",
    "\n",
    "It shows the several things involved. If you just want to run it you should use the <b>automl launcher</b>\n",
    "\n"
   ]
  },
  {
   "cell_type": "markdown",
   "metadata": {},
   "source": [
    "Let's start by loading some small data"
   ]
  },
  {
   "cell_type": "code",
   "execution_count": 1,
   "metadata": {},
   "outputs": [
    {
     "data": {
      "text/html": [
       "<div>\n",
       "<style scoped>\n",
       "    .dataframe tbody tr th:only-of-type {\n",
       "        vertical-align: middle;\n",
       "    }\n",
       "\n",
       "    .dataframe tbody tr th {\n",
       "        vertical-align: top;\n",
       "    }\n",
       "\n",
       "    .dataframe thead th {\n",
       "        text-align: right;\n",
       "    }\n",
       "</style>\n",
       "<table border=\"1\" class=\"dataframe\">\n",
       "  <thead>\n",
       "    <tr style=\"text-align: right;\">\n",
       "      <th></th>\n",
       "      <th>Pclass</th>\n",
       "      <th>Name</th>\n",
       "      <th>Sex</th>\n",
       "      <th>Age</th>\n",
       "      <th>SibSp</th>\n",
       "      <th>Parch</th>\n",
       "      <th>Ticket</th>\n",
       "      <th>Fare</th>\n",
       "      <th>Cabin</th>\n",
       "      <th>Embarked</th>\n",
       "    </tr>\n",
       "  </thead>\n",
       "  <tbody>\n",
       "    <tr>\n",
       "      <th>0</th>\n",
       "      <td>3</td>\n",
       "      <td>Braund, Mr. Owen Harris</td>\n",
       "      <td>male</td>\n",
       "      <td>22.0</td>\n",
       "      <td>1</td>\n",
       "      <td>0</td>\n",
       "      <td>A/5 21171</td>\n",
       "      <td>7.2500</td>\n",
       "      <td>NaN</td>\n",
       "      <td>S</td>\n",
       "    </tr>\n",
       "    <tr>\n",
       "      <th>1</th>\n",
       "      <td>1</td>\n",
       "      <td>Cumings, Mrs. John Bradley (Florence Briggs Th...</td>\n",
       "      <td>female</td>\n",
       "      <td>38.0</td>\n",
       "      <td>1</td>\n",
       "      <td>0</td>\n",
       "      <td>PC 17599</td>\n",
       "      <td>71.2833</td>\n",
       "      <td>C85</td>\n",
       "      <td>C</td>\n",
       "    </tr>\n",
       "    <tr>\n",
       "      <th>2</th>\n",
       "      <td>3</td>\n",
       "      <td>Heikkinen, Miss. Laina</td>\n",
       "      <td>female</td>\n",
       "      <td>26.0</td>\n",
       "      <td>0</td>\n",
       "      <td>0</td>\n",
       "      <td>STON/O2. 3101282</td>\n",
       "      <td>7.9250</td>\n",
       "      <td>NaN</td>\n",
       "      <td>S</td>\n",
       "    </tr>\n",
       "    <tr>\n",
       "      <th>3</th>\n",
       "      <td>1</td>\n",
       "      <td>Futrelle, Mrs. Jacques Heath (Lily May Peel)</td>\n",
       "      <td>female</td>\n",
       "      <td>35.0</td>\n",
       "      <td>1</td>\n",
       "      <td>0</td>\n",
       "      <td>113803</td>\n",
       "      <td>53.1000</td>\n",
       "      <td>C123</td>\n",
       "      <td>S</td>\n",
       "    </tr>\n",
       "    <tr>\n",
       "      <th>4</th>\n",
       "      <td>3</td>\n",
       "      <td>Allen, Mr. William Henry</td>\n",
       "      <td>male</td>\n",
       "      <td>35.0</td>\n",
       "      <td>0</td>\n",
       "      <td>0</td>\n",
       "      <td>373450</td>\n",
       "      <td>8.0500</td>\n",
       "      <td>NaN</td>\n",
       "      <td>S</td>\n",
       "    </tr>\n",
       "  </tbody>\n",
       "</table>\n",
       "</div>"
      ],
      "text/plain": [
       "   Pclass                                               Name     Sex   Age  \\\n",
       "0       3                            Braund, Mr. Owen Harris    male  22.0   \n",
       "1       1  Cumings, Mrs. John Bradley (Florence Briggs Th...  female  38.0   \n",
       "2       3                             Heikkinen, Miss. Laina  female  26.0   \n",
       "3       1       Futrelle, Mrs. Jacques Heath (Lily May Peel)  female  35.0   \n",
       "4       3                           Allen, Mr. William Henry    male  35.0   \n",
       "\n",
       "   SibSp  Parch            Ticket     Fare Cabin Embarked  \n",
       "0      1      0         A/5 21171   7.2500   NaN        S  \n",
       "1      1      0          PC 17599  71.2833   C85        C  \n",
       "2      0      0  STON/O2. 3101282   7.9250   NaN        S  \n",
       "3      1      0            113803  53.1000  C123        S  \n",
       "4      0      0            373450   8.0500   NaN        S  "
      ]
     },
     "execution_count": 1,
     "metadata": {},
     "output_type": "execute_result"
    }
   ],
   "source": [
    "import warnings\n",
    "warnings.filterwarnings('ignore')\n",
    "\n",
    "import pandas as pd\n",
    "\n",
    "from aikit.datasets.datasets import load_dataset,DatasetEnum\n",
    "dfX, y, _ ,_ , _ = load_dataset(DatasetEnum.titanic)\n",
    "dfX.head()"
   ]
  },
  {
   "cell_type": "code",
   "execution_count": 2,
   "metadata": {},
   "outputs": [
    {
     "data": {
      "text/plain": [
       "array([0, 1, 1, 1, 0], dtype=int64)"
      ]
     },
     "execution_count": 2,
     "metadata": {},
     "output_type": "execute_result"
    }
   ],
   "source": [
    "y[0:5]"
   ]
  },
  {
   "cell_type": "markdown",
   "metadata": {},
   "source": [
    "Now let's load what is needed "
   ]
  },
  {
   "cell_type": "code",
   "execution_count": 3,
   "metadata": {},
   "outputs": [],
   "source": [
    "from aikit.ml_machine import AutoMlConfig, JobConfig,  MlJobManager, MlJobRunner, AutoMlResultReader\n",
    "from aikit.ml_machine import FolderDataPersister,SavingType, AutoMlModelGuider"
   ]
  },
  {
   "cell_type": "markdown",
   "metadata": {},
   "source": [
    "### AutoML configuration object\n",
    "This object will contain all the relevant information about the problem at hand :\n",
    " * it's type : REGRESSION or CLASSIFICATION\n",
    " * the information about the column in the data\n",
    " * the steps that are needed in the processing pipeline (see explanation after)\n",
    " * the models that are to be tested\n",
    " * ...\n",
    " \n",
    " By default the model will guess everything but everything can be changed if needed"
   ]
  },
  {
   "cell_type": "code",
   "execution_count": 4,
   "metadata": {},
   "outputs": [
    {
     "data": {
      "text/plain": [
       "<aikit.ml_machine.ml_machine.AutoMlConfig object at 0x000001BD444C2CF8>\n",
       "type of problem : CLASSIFICATION"
      ]
     },
     "execution_count": 4,
     "metadata": {},
     "output_type": "execute_result"
    }
   ],
   "source": [
    "auto_ml_config = AutoMlConfig(dfX = dfX, y = y, name = \"titanic\")\n",
    "auto_ml_config.guess_everything()\n",
    "auto_ml_config\n"
   ]
  },
  {
   "cell_type": "markdown",
   "metadata": {},
   "source": [
    "#### type of problem"
   ]
  },
  {
   "cell_type": "code",
   "execution_count": 5,
   "metadata": {},
   "outputs": [
    {
     "data": {
      "text/plain": [
       "'CLASSIFICATION'"
      ]
     },
     "execution_count": 5,
     "metadata": {},
     "output_type": "execute_result"
    }
   ],
   "source": [
    "auto_ml_config.type_of_problem"
   ]
  },
  {
   "cell_type": "markdown",
   "metadata": {},
   "source": [
    "The config guess that it was a Classification problem"
   ]
  },
  {
   "cell_type": "markdown",
   "metadata": {},
   "source": [
    "#### information about columns"
   ]
  },
  {
   "cell_type": "code",
   "execution_count": 6,
   "metadata": {},
   "outputs": [
    {
     "data": {
      "text/plain": [
       "OrderedDict([('Pclass',\n",
       "              {'HasMissing': False, 'ToKeep': True, 'TypeOfVariable': 'NUM'}),\n",
       "             ('Name',\n",
       "              {'HasMissing': False, 'ToKeep': True, 'TypeOfVariable': 'TEXT'}),\n",
       "             ('Sex',\n",
       "              {'HasMissing': False, 'ToKeep': True, 'TypeOfVariable': 'CAT'}),\n",
       "             ('Age',\n",
       "              {'HasMissing': True, 'ToKeep': True, 'TypeOfVariable': 'NUM'}),\n",
       "             ('SibSp',\n",
       "              {'HasMissing': False, 'ToKeep': True, 'TypeOfVariable': 'NUM'}),\n",
       "             ('Parch',\n",
       "              {'HasMissing': False, 'ToKeep': True, 'TypeOfVariable': 'NUM'}),\n",
       "             ('Ticket',\n",
       "              {'HasMissing': False, 'ToKeep': True, 'TypeOfVariable': 'TEXT'}),\n",
       "             ('Fare',\n",
       "              {'HasMissing': False, 'ToKeep': True, 'TypeOfVariable': 'NUM'}),\n",
       "             ('Cabin',\n",
       "              {'HasMissing': True, 'ToKeep': True, 'TypeOfVariable': 'CAT'}),\n",
       "             ('Embarked',\n",
       "              {'HasMissing': True, 'ToKeep': True, 'TypeOfVariable': 'CAT'})])"
      ]
     },
     "execution_count": 6,
     "metadata": {},
     "output_type": "execute_result"
    }
   ],
   "source": [
    "auto_ml_config.columns_informations"
   ]
  },
  {
   "cell_type": "code",
   "execution_count": 7,
   "metadata": {},
   "outputs": [
    {
     "data": {
      "text/html": [
       "<div>\n",
       "<style scoped>\n",
       "    .dataframe tbody tr th:only-of-type {\n",
       "        vertical-align: middle;\n",
       "    }\n",
       "\n",
       "    .dataframe tbody tr th {\n",
       "        vertical-align: top;\n",
       "    }\n",
       "\n",
       "    .dataframe thead th {\n",
       "        text-align: right;\n",
       "    }\n",
       "</style>\n",
       "<table border=\"1\" class=\"dataframe\">\n",
       "  <thead>\n",
       "    <tr style=\"text-align: right;\">\n",
       "      <th></th>\n",
       "      <th>HasMissing</th>\n",
       "      <th>ToKeep</th>\n",
       "      <th>TypeOfVariable</th>\n",
       "    </tr>\n",
       "  </thead>\n",
       "  <tbody>\n",
       "    <tr>\n",
       "      <th>Pclass</th>\n",
       "      <td>False</td>\n",
       "      <td>True</td>\n",
       "      <td>NUM</td>\n",
       "    </tr>\n",
       "    <tr>\n",
       "      <th>Name</th>\n",
       "      <td>False</td>\n",
       "      <td>True</td>\n",
       "      <td>TEXT</td>\n",
       "    </tr>\n",
       "    <tr>\n",
       "      <th>Sex</th>\n",
       "      <td>False</td>\n",
       "      <td>True</td>\n",
       "      <td>CAT</td>\n",
       "    </tr>\n",
       "    <tr>\n",
       "      <th>Age</th>\n",
       "      <td>True</td>\n",
       "      <td>True</td>\n",
       "      <td>NUM</td>\n",
       "    </tr>\n",
       "    <tr>\n",
       "      <th>SibSp</th>\n",
       "      <td>False</td>\n",
       "      <td>True</td>\n",
       "      <td>NUM</td>\n",
       "    </tr>\n",
       "    <tr>\n",
       "      <th>Parch</th>\n",
       "      <td>False</td>\n",
       "      <td>True</td>\n",
       "      <td>NUM</td>\n",
       "    </tr>\n",
       "    <tr>\n",
       "      <th>Ticket</th>\n",
       "      <td>False</td>\n",
       "      <td>True</td>\n",
       "      <td>TEXT</td>\n",
       "    </tr>\n",
       "    <tr>\n",
       "      <th>Fare</th>\n",
       "      <td>False</td>\n",
       "      <td>True</td>\n",
       "      <td>NUM</td>\n",
       "    </tr>\n",
       "    <tr>\n",
       "      <th>Cabin</th>\n",
       "      <td>True</td>\n",
       "      <td>True</td>\n",
       "      <td>CAT</td>\n",
       "    </tr>\n",
       "    <tr>\n",
       "      <th>Embarked</th>\n",
       "      <td>True</td>\n",
       "      <td>True</td>\n",
       "      <td>CAT</td>\n",
       "    </tr>\n",
       "  </tbody>\n",
       "</table>\n",
       "</div>"
      ],
      "text/plain": [
       "         HasMissing ToKeep TypeOfVariable\n",
       "Pclass        False   True            NUM\n",
       "Name          False   True           TEXT\n",
       "Sex           False   True            CAT\n",
       "Age            True   True            NUM\n",
       "SibSp         False   True            NUM\n",
       "Parch         False   True            NUM\n",
       "Ticket        False   True           TEXT\n",
       "Fare          False   True            NUM\n",
       "Cabin          True   True            CAT\n",
       "Embarked       True   True            CAT"
      ]
     },
     "execution_count": 7,
     "metadata": {},
     "output_type": "execute_result"
    }
   ],
   "source": [
    "pd.DataFrame(auto_ml_config.columns_informations).T"
   ]
  },
  {
   "cell_type": "markdown",
   "metadata": {},
   "source": [
    "For each column in the DataFrame, its type were guess among the three possible values :\n",
    " * NUM  : for numerical columns\n",
    " * TEXT : for columns that contains text\n",
    " * CAT  : for categorical columns\n",
    "\n",
    "Remarks:\n",
    " * The difference between TEXT and CAT is based on the number of different modalities\n",
    " * Be careful with categorical value that are encoded into integers (algorithm won't know that it is really a categorical feature)\n"
   ]
  },
  {
   "cell_type": "markdown",
   "metadata": {},
   "source": [
    "#### columns block"
   ]
  },
  {
   "cell_type": "code",
   "execution_count": 8,
   "metadata": {},
   "outputs": [
    {
     "data": {
      "text/plain": [
       "OrderedDict([('NUM', ['Pclass', 'Age', 'SibSp', 'Parch', 'Fare']),\n",
       "             ('TEXT', ['Name', 'Ticket']),\n",
       "             ('CAT', ['Sex', 'Cabin', 'Embarked'])])"
      ]
     },
     "execution_count": 8,
     "metadata": {},
     "output_type": "execute_result"
    }
   ],
   "source": [
    "auto_ml_config.columns_block"
   ]
  },
  {
   "cell_type": "markdown",
   "metadata": {},
   "source": [
    "the ml machine has the notion of <i>block of columns</i>.\n",
    "For some use-case features naturally falls into blocks. By default the tool will use the type of feature has blocks. But other things can be used.\n",
    "\n",
    "The ml machine will sometimes try to create a model without a block"
   ]
  },
  {
   "cell_type": "markdown",
   "metadata": {},
   "source": [
    "#### needed steps"
   ]
  },
  {
   "cell_type": "code",
   "execution_count": 9,
   "metadata": {},
   "outputs": [
    {
     "data": {
      "text/plain": [
       "[{'optional': True, 'step': 'TextPreprocessing'},\n",
       " {'optional': False, 'step': 'TextEncoder'},\n",
       " {'optional': True, 'step': 'TextDimensionReduction'},\n",
       " {'optional': False, 'step': 'CategoryEncoder'},\n",
       " {'optional': False, 'step': 'MissingValueImputer'},\n",
       " {'optional': True, 'step': 'Scaling'},\n",
       " {'optional': True, 'step': 'DimensionReduction'},\n",
       " {'optional': True, 'step': 'FeatureExtraction'},\n",
       " {'optional': True, 'step': 'FeatureSelection'},\n",
       " {'optional': False, 'step': 'Model'}]"
      ]
     },
     "execution_count": 9,
     "metadata": {},
     "output_type": "execute_result"
    }
   ],
   "source": [
    " auto_ml_config.needed_steps"
   ]
  },
  {
   "cell_type": "markdown",
   "metadata": {},
   "source": [
    "The ml machine will create processing pipeline by assembling different steps.\n",
    "Here are the steps it will use for that use case :\n",
    " \n",
    " * TextPreprocessing\n",
    " * TextEncoder : encoding of text into numerical values\n",
    " * TextDimensionReduction : specific dimension reduction for text based features\n",
    " \n",
    " * CategoryEncoder : encoder of categorical data\n",
    " * MissingValueImputer : since there are missing value they need to be filled\n",
    " * Scaling : step to re-scale features\n",
    " * DimensionReduction  : generic dimension reduction\n",
    " \n",
    " * FeatureExtraction : create new features\n",
    " * FeatureSelction   : select feature\n",
    " \n",
    " * Model : the final classification/regression model\n"
   ]
  },
  {
   "cell_type": "markdown",
   "metadata": {},
   "source": [
    "#### models to keep"
   ]
  },
  {
   "cell_type": "code",
   "execution_count": 10,
   "metadata": {},
   "outputs": [
    {
     "data": {
      "text/plain": [
       "[('Model', 'LogisticRegression'),\n",
       " ('Model', 'RandomForestClassifier'),\n",
       " ('Model', 'ExtraTreesClassifier'),\n",
       " ('Model', 'LGBMClassifier'),\n",
       " ('FeatureSelection', 'FeaturesSelectorClassifier'),\n",
       " ('TextEncoder', 'CountVectorizerWrapper'),\n",
       " ('TextEncoder', 'Word2VecVectorizer'),\n",
       " ('TextEncoder', 'Char2VecVectorizer'),\n",
       " ('TextPreprocessing', 'TextNltkProcessing'),\n",
       " ('TextPreprocessing', 'TextDefaultProcessing'),\n",
       " ('TextPreprocessing', 'TextDigitAnonymizer'),\n",
       " ('CategoryEncoder', 'NumericalEncoder'),\n",
       " ('CategoryEncoder', 'TargetEncoderClassifier'),\n",
       " ('MissingValueImputer', 'NumImputer'),\n",
       " ('DimensionReduction', 'TruncatedSVDWrapper'),\n",
       " ('DimensionReduction', 'PCAWrapper'),\n",
       " ('TextDimensionReduction', 'TruncatedSVDWrapper'),\n",
       " ('DimensionReduction', 'KMeansTransformer'),\n",
       " ('Scaling', 'CdfScaler')]"
      ]
     },
     "execution_count": 10,
     "metadata": {},
     "output_type": "execute_result"
    }
   ],
   "source": [
    "auto_ml_config.models_to_keep"
   ]
  },
  {
   "cell_type": "markdown",
   "metadata": {},
   "source": [
    "This give us the list of models/transformers to test at each steps.\n",
    "\n",
    "Remarks:\n",
    "* some steps are removed because they have no transformer yet"
   ]
  },
  {
   "cell_type": "markdown",
   "metadata": {},
   "source": [
    "## job configuration"
   ]
  },
  {
   "cell_type": "code",
   "execution_count": 11,
   "metadata": {},
   "outputs": [],
   "source": [
    "job_config = JobConfig()\n",
    "job_config.guess_cv(auto_ml_config = auto_ml_config, n_splits = 10)\n",
    "job_config.guess_scoring(auto_ml_config = auto_ml_config)\n",
    "\n",
    "job_config.score_base_line = None"
   ]
  },
  {
   "cell_type": "code",
   "execution_count": 12,
   "metadata": {},
   "outputs": [
    {
     "data": {
      "text/plain": [
       "['accuracy', 'log_loss_patched', 'avg_roc_auc', 'f1_macro']"
      ]
     },
     "execution_count": 12,
     "metadata": {},
     "output_type": "execute_result"
    }
   ],
   "source": [
    "job_config.scoring"
   ]
  },
  {
   "cell_type": "code",
   "execution_count": 13,
   "metadata": {},
   "outputs": [
    {
     "data": {
      "text/plain": [
       "StratifiedKFold(n_splits=10, random_state=123, shuffle=True)"
      ]
     },
     "execution_count": 13,
     "metadata": {},
     "output_type": "execute_result"
    }
   ],
   "source": [
    "job_config.cv"
   ]
  },
  {
   "cell_type": "code",
   "execution_count": 14,
   "metadata": {},
   "outputs": [
    {
     "data": {
      "text/plain": [
       "'accuracy'"
      ]
     },
     "execution_count": 14,
     "metadata": {},
     "output_type": "execute_result"
    }
   ],
   "source": [
    "job_config.main_scorer"
   ]
  },
  {
   "cell_type": "code",
   "execution_count": 15,
   "metadata": {},
   "outputs": [],
   "source": [
    "job_config.score_base_line"
   ]
  },
  {
   "cell_type": "markdown",
   "metadata": {},
   "source": [
    "The baseline can be setted if we know what a good performance is.\n",
    "It will be used to specify the threshold bellow which we stop crossvalidation in the first fold"
   ]
  },
  {
   "cell_type": "markdown",
   "metadata": {},
   "source": [
    "This object has the specific configuration for the job to do :\n",
    "* how to cross validate\n",
    "* what scoring/benchmark to use"
   ]
  },
  {
   "cell_type": "markdown",
   "metadata": {},
   "source": [
    "## Data Persister\n",
    "To synchronize processes and to save values, we need an object to take of that.\n",
    "\n",
    "This object is a DataPersister, which save everything on disk\n",
    "(Other persister using database might be created)"
   ]
  },
  {
   "cell_type": "code",
   "execution_count": 16,
   "metadata": {},
   "outputs": [],
   "source": [
    "base_folder = # INSERT PATH HERE\n",
    "data_persister = FolderDataPersister(base_folder = base_folder)"
   ]
  },
  {
   "cell_type": "markdown",
   "metadata": {},
   "source": [
    "## controller"
   ]
  },
  {
   "cell_type": "code",
   "execution_count": 17,
   "metadata": {},
   "outputs": [],
   "source": [
    "result_reader = AutoMlResultReader(data_persister)\n",
    "auto_ml_guider = AutoMlModelGuider(result_reader = result_reader, \n",
    "                                       job_config = job_config,\n",
    "                                       metric_transformation=\"default\",\n",
    "                                       avg_metric=True\n",
    "                                       )\n",
    "    \n",
    "job_controller = MlJobManager(auto_ml_config = auto_ml_config,\n",
    "                                job_config = job_config,\n",
    "                                auto_ml_guider = auto_ml_guider,\n",
    "                                data_persister = data_persister)"
   ]
  },
  {
   "cell_type": "markdown",
   "metadata": {},
   "source": [
    "the search will be driven by a <i>controller</i> process. This process won't actually train models but it will decide what models should be tried.\n",
    "\n",
    "Here three object are actually created :\n",
    " * result reader : its job is to read the result of the auto-ml process and aggregate them\n",
    " \n",
    " * auto_ml_guider : its job is to help the controller <i>guide</i> the seach (using a bayesian technic)\n",
    " \n",
    " * job_controller : the controller\n",
    " \n",
    "All those objects need the 'data_persister' object to write/read data"
   ]
  },
  {
   "cell_type": "markdown",
   "metadata": {},
   "source": [
    "Now the controller can be started using:\n",
    "\n",
    "<span style=\"color:red\"><b>job_controller.run()</b></span>\n",
    "You need to launch in a subprocess\n"
   ]
  },
  {
   "cell_type": "markdown",
   "metadata": {},
   "source": [
    "## Worker(s)\n",
    "\n",
    "The last things needed is to create worker(s) that will do the actual cross validation.\n",
    "Those worker will :\n",
    " * listen to the controller\n",
    " * does the cross validation of the models they are told\n",
    " * save result"
   ]
  },
  {
   "cell_type": "code",
   "execution_count": 18,
   "metadata": {},
   "outputs": [],
   "source": [
    "job_runner = MlJobRunner(dfX = dfX , \n",
    "                       y = y, \n",
    "                       groups = None,\n",
    "                       auto_ml_config = auto_ml_config, \n",
    "                       job_config = job_config,\n",
    "                       data_persister = data_persister)\n"
   ]
  },
  {
   "cell_type": "markdown",
   "metadata": {},
   "source": [
    "as before the controller can be started using :\n",
    "<span style=\"color:red\"><b>job_runner.run()</b></span>\n",
    "\n",
    "You need to launcher that in a Subprocess or a Thread"
   ]
  },
  {
   "cell_type": "markdown",
   "metadata": {},
   "source": [
    "## Result Reader\n",
    "After a few models were tested you can see the result, for that you need the 'result_reader' (which I re-create here for simplicity)"
   ]
  },
  {
   "cell_type": "code",
   "execution_count": 19,
   "metadata": {},
   "outputs": [],
   "source": [
    "base_folder = # INSERT path here\n",
    "data_persister = FolderDataPersister(base_folder = base_folder)\n",
    "\n",
    "result_reader = AutoMlResultReader(data_persister)\n"
   ]
  },
  {
   "cell_type": "code",
   "execution_count": 20,
   "metadata": {},
   "outputs": [],
   "source": [
    "df_results = result_reader.load_all_results()\n",
    "df_params  = result_reader.load_all_params()\n",
    "df_errors  = result_reader.load_all_errors()"
   ]
  },
  {
   "cell_type": "markdown",
   "metadata": {},
   "source": [
    "* df_results : DataFrame with the scoring results\n",
    "* df_params  : DataFrame with the parameters of the complete processing pipeline\n",
    "* df_errors  : DataFrame with the errors\n",
    "\n",
    "All those DataFrames can be joined using the common 'job_id' column"
   ]
  },
  {
   "cell_type": "code",
   "execution_count": 21,
   "metadata": {},
   "outputs": [],
   "source": [
    "df_merged_result = pd.merge( df_params, df_results, how = \"inner\",on = \"job_id\")\n",
    "df_merged_error  = pd.merge( df_params, df_errors , how = \"inner\",on = \"job_id\")\n"
   ]
  },
  {
   "cell_type": "markdown",
   "metadata": {},
   "source": [
    "And result can be writted in an Excel file (for example)"
   ]
  },
  {
   "cell_type": "code",
   "execution_count": 22,
   "metadata": {},
   "outputs": [],
   "source": [
    "try:\n",
    "    df_merged_result.to_excel(base_folder + \"/result.xlsx\",index=False)\n",
    "except OSError:\n",
    "    print(\"I couldn't save excel file\")\n",
    "\n",
    "try:\n",
    "    df_merged_error.to_excel(base_folder + \"/result_error.xlsx\",index=False)\n",
    "except OSError:\n",
    "    print(\"I couldn't save excel file\")\n"
   ]
  },
  {
   "cell_type": "markdown",
   "metadata": {},
   "source": [
    "### Load a given model ####"
   ]
  },
  {
   "cell_type": "code",
   "execution_count": 23,
   "metadata": {},
   "outputs": [],
   "source": [
    "from aikit.ml_machine import FolderDataPersister, SavingType\n",
    "from aikit.model_definition import sklearn_model_from_param\n",
    "\n",
    "base_folder = # INSERT path here\n",
    "data_persister = FolderDataPersister(base_folder = base_folder)\n"
   ]
  },
  {
   "cell_type": "code",
   "execution_count": null,
   "metadata": {},
   "outputs": [],
   "source": [
    "job_id    = # INSERT job_id here \n",
    "job_param = data_persister.read(job_id, path = \"job_param\", write_type = SavingType.json)\n",
    "job_param"
   ]
  },
  {
   "cell_type": "code",
   "execution_count": null,
   "metadata": {},
   "outputs": [],
   "source": [
    "model = sklearn_model_from_param(job_param)\n",
    "model"
   ]
  },
  {
   "cell_type": "code",
   "execution_count": null,
   "metadata": {},
   "outputs": [],
   "source": []
  }
 ],
 "metadata": {
  "kernelspec": {
   "display_name": "Python 3",
   "language": "python",
   "name": "python3"
  },
  "language_info": {
   "codemirror_mode": {
    "name": "ipython",
    "version": 3
   },
   "file_extension": ".py",
   "mimetype": "text/x-python",
   "name": "python",
   "nbconvert_exporter": "python",
   "pygments_lexer": "ipython3",
   "version": "3.6.4"
  }
 },
 "nbformat": 4,
 "nbformat_minor": 2
}
